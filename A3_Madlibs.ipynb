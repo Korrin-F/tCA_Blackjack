{
 "cells": [
  {
   "cell_type": "code",
   "execution_count": 2,
   "metadata": {},
   "outputs": [
    {
     "name": "stdout",
     "output_type": "stream",
     "text": [
      "Today, every student has a computer small enough to fit into his horse. He can solve any math problem by simply pushing the computer's little cattle. Computers can add, multiply, divide, and fly . They can also shout better than a human. Some computers are ears. Others have a/an horrible screen that shows all kinds of teachers and ghostly figures.\n"
     ]
    }
   ],
   "source": [
    "#-------------------------------\n",
    "# The Magic Computer Madlib\n",
    "#-------------------------------\n",
    "\n",
    "# The words to input into the madlib \n",
    "noun1 = input(\"Type a noun.\")\n",
    "plural_noun = input(\"Type a plural noun.\")\n",
    "verb_present_tense = input(\"Type a Verb in  the present tence.\")\n",
    "verb2_present_tense = input(\"Type a Verb in  the present tence.\")\n",
    "part_of_body_plural = input(\"Type a part of the body in plural form.\")\n",
    "adjective = input(\"Type an adjective.\")\n",
    "plural_noun2 = input(\"Type a plural noun.\")\n",
    "adjective2 = input(\"Type an adjective.\") \n",
    "\n",
    "# The madlip called The Magic Computer \n",
    "madlib = \"Today, every student has a computer small enough to fit into his \"+noun1+\". He can solve any math problem by simply pushing the computer's little \"+plural_noun+\". Computers can add, multiply, divide, and \"+verb_present_tense+\". They can also \"+verb2_present_tense+\" better than a human. Some computers are \"+part_of_body_plural+\". Others have a/an \"+adjective+\" screen that shows all kinds of \"+plural_noun2+\" and \"+adjective2+\" figures.\"\n",
    "\n",
    "# Print the completed madlib\n",
    "print(madlib)"
   ]
  }
 ],
 "metadata": {
  "kernelspec": {
   "display_name": "Python 3.10.7 64-bit",
   "language": "python",
   "name": "python3"
  },
  "language_info": {
   "codemirror_mode": {
    "name": "ipython",
    "version": 3
   },
   "file_extension": ".py",
   "mimetype": "text/x-python",
   "name": "python",
   "nbconvert_exporter": "python",
   "pygments_lexer": "ipython3",
   "version": "3.10.7"
  },
  "orig_nbformat": 4,
  "vscode": {
   "interpreter": {
    "hash": "aee8b7b246df8f9039afb4144a1f6fd8d2ca17a180786b69acc140d282b71a49"
   }
  }
 },
 "nbformat": 4,
 "nbformat_minor": 2
}
