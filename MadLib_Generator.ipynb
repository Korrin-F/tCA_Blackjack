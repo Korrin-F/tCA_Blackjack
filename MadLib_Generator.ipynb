{
 "cells": [
  {
   "cell_type": "code",
   "execution_count": null,
   "metadata": {},
   "outputs": [],
   "source": [
    "#Madlib : The Magic Computers\n",
    "noun1 = \n",
    "plural_noun =\n",
    "verb_present_tense =\n",
    "verb2_present_tense =\n",
    "part_of_body_plural =\n",
    "adjective =\n",
    "plural_noun2 =\n",
    "adjective2 = \n",
    "\n",
    "madlib = \"Today, every student has a computer small enough to fit into his \"+noun1+\". He can solve any math problem by simply pushing the computer's little \"+plural_noun+\". Computers can add, multiply, divide, and \"+verb_present_tense+\". They can also \"+verb2_present_tense+\" better than a human. Some computers are \"+part_of_body_plural+\". Others have a/an \"+adjective+\" screen that shows all kinds of \"+plural_noun2+\" and \"+adjective2+\" figures.\""
   ]
  }
 ],
 "metadata": {
  "language_info": {
   "name": "python"
  },
  "orig_nbformat": 4
 },
 "nbformat": 4,
 "nbformat_minor": 2
}
