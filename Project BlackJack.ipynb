{
 "cells": [
  {
   "cell_type": "code",
   "execution_count": 57,
   "metadata": {},
   "outputs": [
    {
     "name": "stdout",
     "output_type": "stream",
     "text": [
      "Welcome to blackjack!\n",
      "Dealer's first card is: 2\n",
      "Dealer's second card is hidden.\n",
      "You got a: 9\n",
      "Your total is: 9\n",
      "You got a: 6\n",
      "Your total is: 15\n",
      "Dealers first card is:  2  and the dealers second card is:  4\n",
      "Dealer's total is: 6\n",
      "Dealer's total is: 11\n",
      "Dealer's total is: 21\n",
      "You loose sucker!\n",
      "Dealer's final total is: 21\n",
      "Your final total is: 15\n"
     ]
    }
   ],
   "source": [
    "# With the dealer\n",
    "# Player rolls and every time the player goes the dealer goes. \n",
    "# Whoever goes above 21 atomatically looses and the other player wins\n",
    "# if both players are under 21 then the closest is the winner\n",
    "# Dealer rolls first and we respond to result\n",
    "# Dealer goes first until they have rolled \n",
    "# Over 21 looses\n",
    "# dealer keeps one card hidden\n",
    "# players stick or play  adding up the cards. If over he looses \n",
    "# dealer then flips card and if 16 or less they go again\n",
    "# 👍🏻 Solution for proper blackjack: Make an array \n",
    "\n",
    "\n",
    "\n",
    "import random \n",
    "\n",
    "list = [2,3,4,5,6,7,8,9,10,10,10,10,2,3,4,5,6,7,8,9,10,10,10,10,2,3,4,5,6,7,8,9,10,10,10,10,2,3,4,5,6,7,8,9,10,10,10,10]\n",
    "def select_remove_card(list): \n",
    "    list = list \n",
    "    list_position = random.randint(0,len(list))\n",
    "    card = list[list_position] \n",
    "    list.pop(list_position)\n",
    "    #print(list)\n",
    "    #print(card)\n",
    "    #print(list_position) \n",
    "    return list, card \n",
    "\n",
    "\n",
    "print(\"Welcome to blackjack!\")  \n",
    "\n",
    "roll_dice_player = \"y\"\n",
    "roll_dice_dealer = \"y\"\n",
    "\n",
    "maximus_totalis_player = 0\n",
    "list,dealers_first_result = select_remove_card(list)\n",
    "list,dealers_second_result = select_remove_card(list)\n",
    "\n",
    "print(\"Dealer's first card is: \" + str(dealers_first_result))\n",
    "print(\"Dealer's second card is hidden.\")\n",
    "dealers_total = dealers_first_result + dealers_second_result\n",
    "\n",
    "while roll_dice_player == \"y\": \n",
    "    list,dice_total_player = select_remove_card(list)\n",
    "    maximus_totalis_player += dice_total_player\n",
    "    print(\"You got a: \" + str(dice_total_player))\n",
    "    print(\"Your total is: \" + str(maximus_totalis_player))\n",
    "\n",
    "    if maximus_totalis_player > 21 :\n",
    "        print(\"You loose sucker!\")\n",
    "        roll_dice_player = \"n\"\n",
    "        print(\"Dealers first card is: \",dealers_first_result,\" and the dealers second card is: \",dealers_second_result)\n",
    "        print(\"Dealer wins! With a total of: \" + str(dealers_total))\n",
    "        \n",
    "    elif maximus_totalis_player == 21:\n",
    "        print(\"You got 21!\")\n",
    "        roll_dice_player = \"n\"\n",
    "\n",
    "        #print(\"Winner! 🎂\")\n",
    "    else: \n",
    "        roll_dice_player = input(\"Would you like to roll the dice again?\")\n",
    "       \n",
    "#maximus_totalis_player = 20\n",
    "#dealers_total = 25 \n",
    "       \n",
    "\n",
    "if maximus_totalis_player <= 21:\n",
    "    print(\"Dealers first card is: \",dealers_first_result,\" and the dealers second card is: \",dealers_second_result)\n",
    "    print(\"Dealer's total is: \" + str(dealers_total))\n",
    "    while dealers_total <= 16:\n",
    "        list,dealers_card = select_remove_card(list)\n",
    "        dealers_total += dealers_card\n",
    "        print(\"Dealer's total is: \" + str(dealers_total))\n",
    "\n",
    "    if maximus_totalis_player == dealers_total:\n",
    "        print(\"You draw!\")\n",
    "\n",
    "    elif dealers_total > 21 :\n",
    "        print(\"You are a Winner! 🎂\")\n",
    "\n",
    "    elif (21 - dealers_total) > (21 - maximus_totalis_player):\n",
    "        print(\"You are a Winner! 🎂\")\n",
    "    else:\n",
    "        print(\"You loose sucker!\")\n",
    "\n",
    "    print(\"Dealer's final total is: \" + str(dealers_total))\n",
    "    print(\"Your final total is: \" + str(maximus_totalis_player))\n",
    "    \n"
   ]
  },
  {
   "cell_type": "code",
   "execution_count": 49,
   "metadata": {},
   "outputs": [
    {
     "name": "stdout",
     "output_type": "stream",
     "text": [
      "[1, 2, 3, 4, 5, 6, 7, 9, 10, 10, 10, 10]\n",
      "8\n",
      "7\n",
      "Dealers Card:\n",
      "8\n",
      "[1, 2, 3, 4, 5, 6, 7, 9, 10, 10, 10, 10]\n"
     ]
    }
   ],
   "source": [
    "list = [1,2,3,4,5,6,7,8,9,10,10,10,10]\n",
    "def select_remove_card(lists): \n",
    "    list = lists \n",
    "    list_position = random.randint(0,len(list))\n",
    "    card = list[list_position] \n",
    "    list.pop(list_position)\n",
    "    #print(list)\n",
    "    #print(card)\n",
    "    #print(list_position) \n",
    "    return list, card \n",
    "    \n",
    "#dealers_tuple = select_remove_card(list)\n",
    "#dealers_card = dealers_tuple[1]\n",
    "\n",
    "#list,dealers_card = select_remove_card(list)\n",
    "#print(\"Dealers Card:\")\n",
    "#print(dealers_card)\n",
    "#print(list)\n",
    " \n"
   ]
  },
  {
   "cell_type": "code",
   "execution_count": null,
   "metadata": {},
   "outputs": [],
   "source": []
  }
 ],
 "metadata": {
  "kernelspec": {
   "display_name": "Python 3.9.6 64-bit",
   "language": "python",
   "name": "python3"
  },
  "language_info": {
   "codemirror_mode": {
    "name": "ipython",
    "version": 3
   },
   "file_extension": ".py",
   "mimetype": "text/x-python",
   "name": "python",
   "nbconvert_exporter": "python",
   "pygments_lexer": "ipython3",
   "version": "3.8.2"
  },
  "orig_nbformat": 4,
  "vscode": {
   "interpreter": {
    "hash": "31f2aee4e71d21fbe5cf8b01ff0e069b9275f58929596ceb00d14d90e3e16cd6"
   }
  }
 },
 "nbformat": 4,
 "nbformat_minor": 2
}
