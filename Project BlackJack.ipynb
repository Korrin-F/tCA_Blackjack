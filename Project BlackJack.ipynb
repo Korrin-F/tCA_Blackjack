{
 "cells": [
  {
   "cell_type": "code",
   "execution_count": 1,
   "metadata": {},
   "outputs": [
    {
     "name": "stdout",
     "output_type": "stream",
     "text": [
      "👽 🥸 Welcome to blackjack!\n",
      "🥸 Dealer's first card is: 6\n",
      "🥸 Dealer's second card is hidden.\n",
      "👽 You card's value is: 2\n",
      "👽 Your total is: 2\n",
      "👽 You card's value is: 4\n",
      "👽 Your total is: 6\n",
      "👽 You card's value is: 7\n",
      "👽 Your total is: 13\n",
      "👽 You card's value is: 10\n",
      "👽 Your total is: 23\n",
      "👽 You loose sucker!\n",
      "🥸 Dealers first card is:  6  and the dealers second card is:  10\n",
      "🥸 Dealer wins! With a total of: 16\n"
     ]
    }
   ],
   "source": [
    "# With the dealer\n",
    "# Player selects and every time the player goes the dealer goes. \n",
    "# Whoever goes above 21 atomatically looses and the other player wins\n",
    "# if both players are under 21 then the closest is the winner\n",
    "# Dealer selects first and we respond to result\n",
    "# Dealer goes first until they have selected \n",
    "# Over 21 looses\n",
    "# dealer keeps one card hidden\n",
    "# players stick or play  adding up the cards. If over he looses \n",
    "# dealer then flips card and if 16 or less they go again\n",
    "# 👍🏻 Solution for proper blackjack: Make an array \n",
    "\n",
    "# calling the function for selecting a random number\n",
    "import random \n",
    "\n",
    "# Creating a card_deck based on the actual make up of a pack of cards\n",
    "card_deck = [1,2,3,4,5,6,7,8,9,10,10,10,10,1,2,3,4,5,6,7,8,9,10,10,10,10,1,2,3,4,5,6,7,8,9,10,10,10,10,1,2,3,4,5,6,7,8,9,10,10,10,10]\n",
    "dealers_total = 0\n",
    "# Defining a function a randomly select and remove a card from card deck \n",
    "def select_remove_dealer_card(card_deck,dealers_total): \n",
    "    dealers_total=dealers_total\n",
    "    card_deck = card_deck \n",
    "    card_deck_position = random.randint(0,(len(card_deck)-1))\n",
    "    card = card_deck[card_deck_position]  # saves card value\n",
    "    card_deck.pop(card_deck_position) # removes card from deck\n",
    "    if card==1 & (11+dealers_total)>=21:\n",
    "        #print(\"Dealer selected an ace which is being counted as a 1\")\n",
    "        card==1\n",
    "    elif card!=1:\n",
    "        card=card\n",
    "    else:\n",
    "        #print(\"Dealer selected an ace which is being counted as an 11\")\n",
    "        card==11\n",
    "\n",
    "    #print(card_deck)\n",
    "    #print(card)\n",
    "    #print(card_deck_position) \n",
    "    return card_deck, card \n",
    "\n",
    "def select_remove_player_card(card_deck): \n",
    "    card_deck = card_deck \n",
    "    card_deck_position = random.randint(0,(len(card_deck)-1))\n",
    "    card = card_deck[card_deck_position]  # saves card value\n",
    "    card_deck.pop(card_deck_position) # removes card from deck\n",
    "    #print(card_deck)\n",
    "    #print(card)\n",
    "    #print(card_deck_position) \n",
    "    range=[1,11]\n",
    "    if card==1:\n",
    "        print(\"👽 You pulled an ace, please select it's value\")    \n",
    "        while True:\n",
    "            try:\n",
    "                card = int(input(\"👽 Would you like your ace to be a 1 or 11?\"))\n",
    "                assert card in range #Checks the guess is in the range specified\n",
    "            except ValueError: #Checks that the range is an integer\n",
    "                print(\"👽 Not an integer! Please enter an integer.\")\n",
    "            except AssertionError: #Checks the guess is in the range specified\n",
    "                print(\"👽 Please enter a 1 or 11\")\n",
    "            else:\n",
    "                break\n",
    "    \n",
    "    return card_deck, card \n",
    "\n",
    "\n",
    "# Function to select value of ace card\n",
    "def ace(card):\n",
    "    \n",
    "    return card\n",
    "        \n",
    "\n",
    "\n",
    "# Start of the game\n",
    "print(\"👽 🥸 Welcome to blackjack!\")  \n",
    "\n",
    "# Creating variables that activate the player and dealer loops\n",
    "select_card_player = \"y\"\n",
    "select_card_dealer = \"y\"\n",
    "\n",
    "# Creating variable for store the player's total score\n",
    "maximus_totalis_player = 0\n",
    "\n",
    "\n",
    "# The dealers first two card draws\n",
    "card_deck,dealers_first_result = select_remove_dealer_card(card_deck,dealers_total)\n",
    "dealers_total = dealers_first_result\n",
    "card_deck,dealers_second_result = select_remove_dealer_card(card_deck,dealers_total)\n",
    "\n",
    "print(\"🥸 Dealer's first card is: \" + str(dealers_first_result))\n",
    "print(\"🥸 Dealer's second card is hidden.\")\n",
    "\n",
    "# Calculate the dealers total\n",
    "dealers_total = dealers_first_result + dealers_second_result\n",
    "\n",
    "#While loope for the players turns\n",
    "while select_card_player == \"y\": #Runs whilst the player wants to draw again and their total is below 21\n",
    "    card_deck,card_total_player = select_remove_player_card(card_deck) # Player draws card\n",
    "    maximus_totalis_player += card_total_player # Player's total is recalculated\n",
    "    print(\"👽 You card's value is: \" + str(card_total_player))\n",
    "    print(\"👽 Your total is: \" + str(maximus_totalis_player))\n",
    "\n",
    "    if maximus_totalis_player > 21 : # Loop is stopped if player total goes above 21 and player is told they lost\n",
    "        print(\"👽 You loose sucker!\")\n",
    "        select_card_player = \"n\"\n",
    "        print(\"🥸 Dealers first card is: \",dealers_first_result,\" and the dealers second card is: \",dealers_second_result)\n",
    "        print(\"🥸 Dealer wins! With a total of: \" + str(dealers_total))\n",
    "        \n",
    "    elif maximus_totalis_player == 21: # Play is stopped if player's total is equal to 21\n",
    "        print(\"👽 You got 21!\")\n",
    "        select_card_player = \"n\"\n",
    "\n",
    "        #print(\"Winner! 🎂\")\n",
    "    else: # While loop allowing player to keep playing\n",
    "        select_card_player = input(\"👽 Would you like another card?\")\n",
    "       \n",
    "#maximus_totalis_player = 20\n",
    "#dealers_total = 25 \n",
    "       \n",
    "# If player does not get >21 then dealer plays in below loop\n",
    "if maximus_totalis_player <= 21:\n",
    "    print(\"🥸 Dealers first card is: \",dealers_first_result,\" and the dealers second card is: \",dealers_second_result)\n",
    "    print(\"🥸 Dealer's total is: \" + str(dealers_total))\n",
    "    while dealers_total <= 16: #Dealer keeps playing if their total is below 16\n",
    "        card_deck,dealers_card = select_remove_dealer_card(card_deck,dealers_total)\n",
    "        dealers_total += dealers_card\n",
    "        print(\"🥸 Dealer's total is: \" + str(dealers_total))\n",
    "\n",
    "    if maximus_totalis_player == dealers_total: #Game is drawn if dealer and player totals are equal\n",
    "        print(\"👽 🥸 You draw!\")\n",
    "\n",
    "    elif dealers_total > 21 : # Player wins if dealer's total goes above 21\n",
    "        print(\"👽 You are a Winner! 🎂\")\n",
    "\n",
    "    elif (21 - dealers_total) > (21 - maximus_totalis_player): # Checks whether player or dealer's total is closer to 21\n",
    "        print(\"👽 You are a Winner! 🎂\")\n",
    "    else:\n",
    "        print(\"👽 You loose sucker!\")\n",
    "# Final scores printed\n",
    "    print(\"🥸 Dealer's final total is: \" + str(dealers_total))\n",
    "    print(\"👽 Your final total is: \" + str(maximus_totalis_player))\n",
    "    \n"
   ]
  },
  {
   "cell_type": "code",
   "execution_count": 7,
   "metadata": {},
   "outputs": [
    {
     "name": "stdout",
     "output_type": "stream",
     "text": [
      "Not an integer! Please enter an integer.\n",
      "Not an integer! Please enter an integer.\n",
      "Not an integer! Please enter an integer.\n",
      "Not an integer! Please enter an integer.\n",
      "Not an integer! Please enter an integer.\n",
      "Not an integer! Please enter an integer.\n"
     ]
    }
   ],
   "source": [
    "    card=1\n",
    "    check = [1,11]\n",
    "    if card ==1:\n",
    "        \n",
    "        while True:\n",
    "            try:\n",
    "                card==int(input(\"Would you like your ace to be equal to 1 or 11? Type 1 or 11\"))\n",
    "                assert card in check #Checks the card is 1 or 11\n",
    "            except ValueError: #Checks that the range is an integer\n",
    "                print(\"Not an integer! Please enter an integer.\")\n",
    "            except AssertionError: #Checks the guess is 1 or 11\n",
    "                print(\"Please enter 1 or 11\")\n",
    "            else:\n",
    "                break\n",
    "    print(card)"
   ]
  },
  {
   "cell_type": "code",
   "execution_count": null,
   "metadata": {},
   "outputs": [],
   "source": []
  },
  {
   "cell_type": "code",
   "execution_count": null,
   "metadata": {},
   "outputs": [],
   "source": []
  },
  {
   "cell_type": "code",
   "execution_count": null,
   "metadata": {},
   "outputs": [],
   "source": []
  },
  {
   "cell_type": "code",
   "execution_count": null,
   "metadata": {},
   "outputs": [],
   "source": []
  },
  {
   "cell_type": "code",
   "execution_count": null,
   "metadata": {},
   "outputs": [],
   "source": []
  },
  {
   "cell_type": "code",
   "execution_count": null,
   "metadata": {},
   "outputs": [],
   "source": []
  },
  {
   "cell_type": "code",
   "execution_count": null,
   "metadata": {},
   "outputs": [],
   "source": []
  },
  {
   "cell_type": "code",
   "execution_count": null,
   "metadata": {},
   "outputs": [],
   "source": []
  },
  {
   "cell_type": "code",
   "execution_count": null,
   "metadata": {},
   "outputs": [],
   "source": []
  },
  {
   "cell_type": "code",
   "execution_count": null,
   "metadata": {},
   "outputs": [],
   "source": []
  },
  {
   "cell_type": "code",
   "execution_count": null,
   "metadata": {},
   "outputs": [],
   "source": []
  },
  {
   "cell_type": "code",
   "execution_count": null,
   "metadata": {},
   "outputs": [],
   "source": []
  },
  {
   "cell_type": "code",
   "execution_count": null,
   "metadata": {},
   "outputs": [],
   "source": []
  },
  {
   "cell_type": "code",
   "execution_count": null,
   "metadata": {},
   "outputs": [],
   "source": []
  },
  {
   "cell_type": "code",
   "execution_count": null,
   "metadata": {},
   "outputs": [],
   "source": []
  },
  {
   "cell_type": "code",
   "execution_count": null,
   "metadata": {},
   "outputs": [],
   "source": []
  },
  {
   "cell_type": "code",
   "execution_count": null,
   "metadata": {},
   "outputs": [],
   "source": []
  },
  {
   "cell_type": "code",
   "execution_count": null,
   "metadata": {},
   "outputs": [],
   "source": []
  },
  {
   "cell_type": "code",
   "execution_count": null,
   "metadata": {},
   "outputs": [],
   "source": []
  },
  {
   "cell_type": "code",
   "execution_count": null,
   "metadata": {},
   "outputs": [],
   "source": []
  },
  {
   "cell_type": "code",
   "execution_count": null,
   "metadata": {},
   "outputs": [],
   "source": []
  },
  {
   "cell_type": "code",
   "execution_count": null,
   "metadata": {},
   "outputs": [],
   "source": []
  },
  {
   "cell_type": "code",
   "execution_count": null,
   "metadata": {},
   "outputs": [],
   "source": []
  },
  {
   "cell_type": "code",
   "execution_count": null,
   "metadata": {},
   "outputs": [],
   "source": []
  },
  {
   "cell_type": "code",
   "execution_count": null,
   "metadata": {},
   "outputs": [],
   "source": []
  },
  {
   "cell_type": "code",
   "execution_count": null,
   "metadata": {},
   "outputs": [],
   "source": []
  },
  {
   "cell_type": "code",
   "execution_count": null,
   "metadata": {},
   "outputs": [],
   "source": []
  },
  {
   "cell_type": "code",
   "execution_count": null,
   "metadata": {},
   "outputs": [],
   "source": []
  },
  {
   "cell_type": "code",
   "execution_count": null,
   "metadata": {},
   "outputs": [],
   "source": []
  },
  {
   "cell_type": "code",
   "execution_count": null,
   "metadata": {},
   "outputs": [],
   "source": []
  },
  {
   "cell_type": "code",
   "execution_count": null,
   "metadata": {},
   "outputs": [],
   "source": []
  },
  {
   "cell_type": "code",
   "execution_count": null,
   "metadata": {},
   "outputs": [],
   "source": []
  },
  {
   "cell_type": "code",
   "execution_count": null,
   "metadata": {},
   "outputs": [],
   "source": []
  },
  {
   "cell_type": "code",
   "execution_count": null,
   "metadata": {},
   "outputs": [],
   "source": []
  },
  {
   "cell_type": "code",
   "execution_count": null,
   "metadata": {},
   "outputs": [],
   "source": []
  },
  {
   "cell_type": "code",
   "execution_count": null,
   "metadata": {},
   "outputs": [],
   "source": [
    "1\n"
   ]
  },
  {
   "cell_type": "code",
   "execution_count": null,
   "metadata": {},
   "outputs": [],
   "source": []
  },
  {
   "cell_type": "code",
   "execution_count": null,
   "metadata": {},
   "outputs": [],
   "source": []
  },
  {
   "cell_type": "code",
   "execution_count": null,
   "metadata": {},
   "outputs": [],
   "source": []
  },
  {
   "cell_type": "code",
   "execution_count": null,
   "metadata": {},
   "outputs": [],
   "source": []
  },
  {
   "cell_type": "code",
   "execution_count": null,
   "metadata": {},
   "outputs": [],
   "source": []
  },
  {
   "cell_type": "code",
   "execution_count": null,
   "metadata": {},
   "outputs": [],
   "source": []
  },
  {
   "cell_type": "code",
   "execution_count": null,
   "metadata": {},
   "outputs": [],
   "source": []
  },
  {
   "cell_type": "code",
   "execution_count": 13,
   "metadata": {},
   "outputs": [
    {
     "name": "stdout",
     "output_type": "stream",
     "text": [
      "1\n"
     ]
    }
   ],
   "source": []
  },
  {
   "cell_type": "code",
   "execution_count": null,
   "metadata": {},
   "outputs": [],
   "source": []
  },
  {
   "cell_type": "code",
   "execution_count": null,
   "metadata": {},
   "outputs": [],
   "source": []
  },
  {
   "cell_type": "code",
   "execution_count": null,
   "metadata": {},
   "outputs": [],
   "source": []
  },
  {
   "cell_type": "code",
   "execution_count": null,
   "metadata": {},
   "outputs": [],
   "source": []
  },
  {
   "cell_type": "code",
   "execution_count": null,
   "metadata": {},
   "outputs": [],
   "source": []
  },
  {
   "cell_type": "code",
   "execution_count": null,
   "metadata": {},
   "outputs": [],
   "source": []
  },
  {
   "cell_type": "code",
   "execution_count": null,
   "metadata": {},
   "outputs": [],
   "source": []
  },
  {
   "cell_type": "code",
   "execution_count": null,
   "metadata": {},
   "outputs": [],
   "source": []
  },
  {
   "cell_type": "code",
   "execution_count": null,
   "metadata": {},
   "outputs": [],
   "source": [
    "    "
   ]
  },
  {
   "cell_type": "code",
   "execution_count": null,
   "metadata": {},
   "outputs": [],
   "source": []
  },
  {
   "cell_type": "code",
   "execution_count": 49,
   "metadata": {},
   "outputs": [
    {
     "name": "stdout",
     "output_type": "stream",
     "text": [
      "[1, 2, 3, 4, 5, 6, 7, 9, 10, 10, 10, 10]\n",
      "8\n",
      "7\n",
      "Dealers Card:\n",
      "8\n",
      "[1, 2, 3, 4, 5, 6, 7, 9, 10, 10, 10, 10]\n"
     ]
    }
   ],
   "source": [
    "card_deck = [1,2,3,4,5,6,7,8,9,10,10,10,10]\n",
    "def select_remove_card(card_decks): \n",
    "    card_deck = card_decks \n",
    "    card_deck_position = random.randint(0,len(card_deck))\n",
    "    card = card_deck[card_deck_position] \n",
    "    card_deck.pop(card_deck_position)\n",
    "    #print(card_deck)\n",
    "    #print(card)\n",
    "    #print(card_deck_position) \n",
    "    return card_deck, card \n",
    "    \n",
    "#dealers_tuple = select_remove_card(card_deck)\n",
    "#dealers_card = dealers_tuple[1]\n",
    "\n",
    "#card_deck,dealers_card = select_remove_card(card_deck)\n",
    "#print(\"Dealers Card:\")\n",
    "#print(dealers_card)\n",
    "#print(card_deck)\n",
    " \n"
   ]
  },
  {
   "cell_type": "code",
   "execution_count": null,
   "metadata": {},
   "outputs": [],
   "source": []
  }
 ],
 "metadata": {
  "kernelspec": {
   "display_name": "Python 3.10.7 64-bit",
   "language": "python",
   "name": "python3"
  },
  "language_info": {
   "codemirror_mode": {
    "name": "ipython",
    "version": 3
   },
   "file_extension": ".py",
   "mimetype": "text/x-python",
   "name": "python",
   "nbconvert_exporter": "python",
   "pygments_lexer": "ipython3",
   "version": "3.10.7"
  },
  "orig_nbformat": 4,
  "vscode": {
   "interpreter": {
    "hash": "aee8b7b246df8f9039afb4144a1f6fd8d2ca17a180786b69acc140d282b71a49"
   }
  }
 },
 "nbformat": 4,
 "nbformat_minor": 2
}
