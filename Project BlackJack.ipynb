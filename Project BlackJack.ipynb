{
 "cells": [
  {
   "cell_type": "code",
   "execution_count": 2,
   "metadata": {},
   "outputs": [
    {
     "name": "stdout",
     "output_type": "stream",
     "text": [
      "Dealers First Number = 10\n",
      "Players Total = 5\n",
      "Players Total = 10\n",
      "Players Total = 19\n",
      "Dealers total is: 11\n",
      "Dealers total is: 13\n",
      "Dealers total is: 24\n",
      "You are a Winner! 🎂\n",
      "Dealers total is: 24\n",
      "Players Total = 19\n"
     ]
    }
   ],
   "source": [
    "# With the dealer\n",
    "# Player rolls and every time the player goes the dealer goes. \n",
    "# Whoever goes above 21 atomatically looses and the other player wins\n",
    "# if both players are under 21 then the closest is the winner\n",
    "# Dealer rolls first and we respond to result\n",
    "# Dealer goes first until they have rolled \n",
    "# Over 21 looses\n",
    "# dealer keeps one card hidden\n",
    "# players stick or play  adding up the cards. If over he looses \n",
    "# dealer then flips card and if 16 or less they go again\n",
    "# 👍🏻 Solution for proper blackjack: Make an array \n",
    "\n",
    "import random\n",
    "\n",
    "roll_dice_player = \"y\"\n",
    "roll_dice_dealer = \"y\"\n",
    "\n",
    "maximus_totalis_player = 0\n",
    "dealers_first_result = random.randint(1,11)\n",
    "dealers_second_result = random.randint(1,11)\n",
    "print(\"Dealers First Number = \" + str(dealers_first_result))\n",
    "dealers_total = dealers_first_result + dealers_second_result\n",
    "\n",
    "while roll_dice_player == \"y\": \n",
    "    dice_total_player = random.randint(1,11)\n",
    "    maximus_totalis_player += dice_total_player\n",
    "    print(\"Players dice role value = \" + str(dice_total_player))\n",
    "    print(\"Players Total = \" + str(maximus_totalis_player))\n",
    "\n",
    "    if maximus_totalis_player > 21 :\n",
    "        print(\"You loose sucker!\")\n",
    "        roll_dice_player = \"n\"\n",
    "        print(\"Dealer wins! With a total of: \" + str(dealers_total))\n",
    "        \n",
    "    elif maximus_totalis_player == 21:\n",
    "        print(\"You got 21!\")\n",
    "        roll_dice_player = \"n\"\n",
    "\n",
    "        #print(\"Winner! 🎂\")\n",
    "    else: \n",
    "        roll_dice_player = input(\"Would you like to roll the dice again?\")\n",
    "       \n",
    "#maximus_totalis_player = 20\n",
    "#dealers_total = 25 \n",
    "       \n",
    "\n",
    "if maximus_totalis_player <= 21:\n",
    "    print(\"Dealers total is: \" + str(dealers_total))\n",
    "    while dealers_total <= 16:\n",
    "        dealers_total += random.randint(1,11) \n",
    "        print(\"Dealers total is: \" + str(dealers_total))\n",
    "\n",
    "    if maximus_totalis_player == dealers_total:\n",
    "        print(\"You draw!\")\n",
    "\n",
    "    elif dealers_total > 21 :\n",
    "        print(\"You are a Winner! 🎂\")\n",
    "\n",
    "    elif (21 - dealers_total) > (21 - maximus_totalis_player):\n",
    "        print(\"You are a Winner! 🎂\")\n",
    "    else:\n",
    "        print(\"You loose sucker!\")\n",
    "\n",
    "    print(\"Dealers total is: \" + str(dealers_total))\n",
    "    print(\"Players Total = \" + str(maximus_totalis_player))\n",
    "    \n"
   ]
  }
 ],
 "metadata": {
  "kernelspec": {
   "display_name": "Python 3.9.6 64-bit",
   "language": "python",
   "name": "python3"
  },
  "language_info": {
   "codemirror_mode": {
    "name": "ipython",
    "version": 3
   },
   "file_extension": ".py",
   "mimetype": "text/x-python",
   "name": "python",
   "nbconvert_exporter": "python",
   "pygments_lexer": "ipython3",
   "version": "3.8.2"
  },
  "orig_nbformat": 4,
  "vscode": {
   "interpreter": {
    "hash": "31f2aee4e71d21fbe5cf8b01ff0e069b9275f58929596ceb00d14d90e3e16cd6"
   }
  }
 },
 "nbformat": 4,
 "nbformat_minor": 2
}
