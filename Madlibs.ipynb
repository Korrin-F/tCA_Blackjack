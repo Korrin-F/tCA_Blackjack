{
 "cells": [
  {
   "cell_type": "code",
   "execution_count": null,
   "metadata": {},
   "outputs": [],
   "source": [
    "noun1 = \n",
    "plural_noun =\n",
    "verb_present_tense =\n",
    "verb2_present_tense =\n",
    "part_of_body_plural =\n",
    "adjective =\n",
    "plural_noun2 =\n",
    "adjective2 = \n",
    "\n",
    "madlib = \"Today, every student has a computer small enough to fit into his \"+noun1+\". He can solve any math problem by simply pushing the computer's little \"+plural_noun+\". Computers can add, multiply, divide, and \"+verb_present_tense+\". They can also \"+verb2_present_tense+\" better than a human. Some computers are \"+part_of_body_plural+\". Others have a/an \"+adjective+\" screen that shows all kinds of \"+plural_noun2+\" and \"+adjective2+\" figures.\""
   ]
  }
 ],
 "metadata": {
  "kernelspec": {
   "display_name": "Python 3.10.7 64-bit",
   "language": "python",
   "name": "python3"
  },
  "language_info": {
   "name": "python",
   "version": "3.10.7"
  },
  "orig_nbformat": 4,
  "vscode": {
   "interpreter": {
    "hash": "aee8b7b246df8f9039afb4144a1f6fd8d2ca17a180786b69acc140d282b71a49"
   }
  }
 },
 "nbformat": 4,
 "nbformat_minor": 2
}
